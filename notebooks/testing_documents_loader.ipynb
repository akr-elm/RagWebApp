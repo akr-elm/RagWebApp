{
 "cells": [
  {
   "cell_type": "code",
   "execution_count": 1,
   "id": "8aea4e87",
   "metadata": {},
   "outputs": [],
   "source": [
    "from llama_index.core import SimpleDirectoryReader\n",
    "import os"
   ]
  },
  {
   "cell_type": "code",
   "execution_count": 4,
   "id": "93d7ceb4",
   "metadata": {},
   "outputs": [],
   "source": [
    "reader = SimpleDirectoryReader(\n",
    "    input_dir=\"test_pdfs\",\n",
    "    required_exts=[\".pdf\"],\n",
    "    recursive=False\n",
    ")"
   ]
  },
  {
   "cell_type": "code",
   "execution_count": 5,
   "id": "2086e7f5",
   "metadata": {},
   "outputs": [],
   "source": [
    "documents = reader.load_data()"
   ]
  },
  {
   "cell_type": "code",
   "execution_count": 6,
   "id": "40f4606f",
   "metadata": {},
   "outputs": [
    {
     "name": "stdout",
     "output_type": "stream",
     "text": [
      "✅ Saved extracted text to `extracted_text.txt`\n"
     ]
    }
   ],
   "source": [
    "if documents:\n",
    "    with open(\"extracted_text.txt\", \"w\", encoding=\"utf-8\") as f:\n",
    "        f.write(documents[0].text)\n",
    "\n",
    "    print(\"✅ Saved extracted text to `extracted_text.txt`\")"
   ]
  }
 ],
 "metadata": {
  "kernelspec": {
   "display_name": ".venv",
   "language": "python",
   "name": "python3"
  },
  "language_info": {
   "codemirror_mode": {
    "name": "ipython",
    "version": 3
   },
   "file_extension": ".py",
   "mimetype": "text/x-python",
   "name": "python",
   "nbconvert_exporter": "python",
   "pygments_lexer": "ipython3",
   "version": "3.11.4"
  }
 },
 "nbformat": 4,
 "nbformat_minor": 5
}
